{
 "cells": [
  {
   "cell_type": "code",
   "execution_count": 4,
   "metadata": {},
   "outputs": [],
   "source": [
    "from utils import *"
   ]
  },
  {
   "cell_type": "code",
   "execution_count": 5,
   "metadata": {},
   "outputs": [],
   "source": [
    "image = cv2.imread(\"Data3/one/image \"+str(1)+\".jpg\")"
   ]
  },
  {
   "cell_type": "code",
   "execution_count": 6,
   "metadata": {},
   "outputs": [],
   "source": [
    "image2 = np.random.randint(0,250,(700,393,3)).astype(\"int\")"
   ]
  },
  {
   "cell_type": "code",
   "execution_count": 7,
   "metadata": {},
   "outputs": [
    {
     "ename": "error",
     "evalue": "OpenCV(4.5.5) /io/opencv/modules/highgui/src/precomp.hpp:155: error: (-215:Assertion failed) src_depth != CV_16F && src_depth != CV_32S in function 'convertToShow'\n",
     "output_type": "error",
     "traceback": [
      "\u001b[0;31m---------------------------------------------------------------------------\u001b[0m",
      "\u001b[0;31merror\u001b[0m                                     Traceback (most recent call last)",
      "\u001b[1;32m/home/dark/catkin_ws/src/my_robot/control/python_scripts/test.ipynb Cell 4'\u001b[0m in \u001b[0;36m<module>\u001b[0;34m\u001b[0m\n\u001b[0;32m----> <a href='vscode-notebook-cell:/home/dark/catkin_ws/src/my_robot/control/python_scripts/test.ipynb#ch0000017?line=0'>1</a>\u001b[0m cv2\u001b[39m.\u001b[39;49mimshow(\u001b[39m\"\u001b[39;49m\u001b[39mimage random\u001b[39;49m\u001b[39m\"\u001b[39;49m,image2)\n\u001b[1;32m      <a href='vscode-notebook-cell:/home/dark/catkin_ws/src/my_robot/control/python_scripts/test.ipynb#ch0000017?line=1'>2</a>\u001b[0m cv2\u001b[39m.\u001b[39mwaitKey(\u001b[39m10000\u001b[39m)\n",
      "\u001b[0;31merror\u001b[0m: OpenCV(4.5.5) /io/opencv/modules/highgui/src/precomp.hpp:155: error: (-215:Assertion failed) src_depth != CV_16F && src_depth != CV_32S in function 'convertToShow'\n"
     ]
    }
   ],
   "source": [
    "cv2.imshow(\"image random\",image2)\n",
    "cv2.waitKey(10000)"
   ]
  },
  {
   "cell_type": "markdown",
   "metadata": {},
   "source": [
    "images2 = np.random.rand()"
   ]
  },
  {
   "cell_type": "code",
   "execution_count": 17,
   "metadata": {},
   "outputs": [],
   "source": [
    "one = []\n",
    "zero = []\n",
    "\n",
    "for i in range (1,236):\n",
    "\n",
    "    one.append(cv2.imread(\"Data3/one/image \"+str(i)+\".jpg\"))\n",
    "    zero.append(cv2.imread(\"Data3/zero/image \"+str(i)+\".jpg\"))\n",
    "\n",
    "One = np.array(one)\n",
    "Zero = np.array(zero)\n",
    "oneA = One.reshape(235,-1)\n",
    "zeroA = Zero.reshape(235,-1)\n",
    "\n",
    "ones = np.ones((235,1))\n",
    "zeros = np.zeros((235,1))\n",
    "\n",
    "dataone = np.hstack([oneA,ones])\n",
    "datazero = np.hstack([zeroA,zeros])\n",
    "\n",
    "data = np.vstack([dataone,datazero])/255\n",
    "np.random.shuffle(data)"
   ]
  },
  {
   "cell_type": "code",
   "execution_count": 27,
   "metadata": {},
   "outputs": [],
   "source": [
    "X = data[:,:-1].reshape(-1,128,128,3)\n",
    "Y = data[:,-1]\n",
    "Y = np.array(tf.one_hot(Y,2)).reshape(-1,2)"
   ]
  },
  {
   "cell_type": "code",
   "execution_count": 31,
   "metadata": {},
   "outputs": [
    {
     "name": "stdout",
     "output_type": "stream",
     "text": [
      "Model: \"sequential_6\"\n",
      "_________________________________________________________________\n",
      " Layer (type)                Output Shape              Param #   \n",
      "=================================================================\n",
      " conv2d_30 (Conv2D)          (None, 128, 128, 32)      1568      \n",
      "                                                                 \n",
      " conv2d_31 (Conv2D)          (None, 128, 128, 64)      32832     \n",
      "                                                                 \n",
      " conv2d_32 (Conv2D)          (None, 128, 128, 128)     131200    \n",
      "                                                                 \n",
      " max_pooling2d_18 (MaxPoolin  (None, 64, 64, 128)      0         \n",
      " g2D)                                                            \n",
      "                                                                 \n",
      " conv2d_33 (Conv2D)          (None, 64, 64, 128)       262272    \n",
      "                                                                 \n",
      " max_pooling2d_19 (MaxPoolin  (None, 32, 32, 128)      0         \n",
      " g2D)                                                            \n",
      "                                                                 \n",
      " conv2d_34 (Conv2D)          (None, 32, 32, 256)       524544    \n",
      "                                                                 \n",
      " max_pooling2d_20 (MaxPoolin  (None, 16, 16, 256)      0         \n",
      " g2D)                                                            \n",
      "                                                                 \n",
      " flatten_6 (Flatten)         (None, 65536)             0         \n",
      "                                                                 \n",
      " dense_24 (Dense)            (None, 1000)              65537000  \n",
      "                                                                 \n",
      " dropout_18 (Dropout)        (None, 1000)              0         \n",
      "                                                                 \n",
      " dense_25 (Dense)            (None, 100)               100100    \n",
      "                                                                 \n",
      " dropout_19 (Dropout)        (None, 100)               0         \n",
      "                                                                 \n",
      " dense_26 (Dense)            (None, 10)                1010      \n",
      "                                                                 \n",
      " dropout_20 (Dropout)        (None, 10)                0         \n",
      "                                                                 \n",
      " dense_27 (Dense)            (None, 2)                 22        \n",
      "                                                                 \n",
      "=================================================================\n",
      "Total params: 66,590,548\n",
      "Trainable params: 66,590,548\n",
      "Non-trainable params: 0\n",
      "_________________________________________________________________\n"
     ]
    }
   ],
   "source": [
    "model = Sequential()\n",
    "\n",
    "model.add(InputLayer((128,128,3)))\n",
    "model.add(Convolution2D(32,(4,4),padding=\"same\",activation=relu))\n",
    "model.add(Convolution2D(64,(4,4),padding=\"same\",activation=relu))\n",
    "model.add(Convolution2D(128,(4,4),padding=\"same\",activation=relu))\n",
    "model.add(MaxPool2D(pool_size=(2,2),strides=(2,2)))\n",
    "\n",
    "model.add(Convolution2D(128,(4,4),padding=\"same\",activation=relu))\n",
    "model.add(MaxPool2D(pool_size=(2,2),strides=(2,2)))\n",
    "\n",
    "model.add(Convolution2D(256,(4,4),padding=\"same\",activation=relu))\n",
    "model.add(MaxPool2D(pool_size=(2,2),strides=(2,2)))\n",
    "model.add(Flatten())\n",
    "model.add(Dense(1000,activation=relu))\n",
    "model.add(Dropout(0.2))\n",
    "model.add(Dense(100,activation=relu))\n",
    "model.add(Dropout(0.2))\n",
    "model.add(Dense(10,activation=relu))\n",
    "model.add(Dropout(0.2))\n",
    "model.add(Dense(2,activation=relu))\n",
    "model.compile(loss=mean_absolute_error,optimizer=Adam(),metrics=Accuracy())\n",
    "model.summary()"
   ]
  },
  {
   "cell_type": "code",
   "execution_count": 35,
   "metadata": {},
   "outputs": [
    {
     "name": "stdout",
     "output_type": "stream",
     "text": [
      "Epoch 1/20\n",
      " 4/15 [=======>......................] - ETA: 39s - loss: 0.1290 - accuracy: 0.4883"
     ]
    }
   ],
   "source": [
    "model.fit(X,Y,epochs=20)"
   ]
  },
  {
   "cell_type": "code",
   "execution_count": 34,
   "metadata": {},
   "outputs": [],
   "source": [
    "res = model.predict(X)"
   ]
  },
  {
   "cell_type": "code",
   "execution_count": null,
   "metadata": {},
   "outputs": [],
   "source": []
  },
  {
   "cell_type": "code",
   "execution_count": 5,
   "metadata": {},
   "outputs": [],
   "source": [
    "from utils import *\n",
    "from count_fingers import *\n",
    "from predict import *\n",
    "from run_avg import *\n",
    "from segment import *\n",
    "from global_vars import *\n",
    "\n",
    "def video():\n",
    "\n",
    "    aWeight = 0.1\n",
    "\n",
    "    bg = None;\n",
    "\n",
    "    camera = cv2.VideoCapture(0)\n",
    "\n",
    "    top, right, bottom, left = 10, 350, 225, 590\n",
    "\n",
    "    prevfin = 0\n",
    "\n",
    "    fingers = 0\n",
    "\n",
    "    num_frames = 0\n",
    "\n",
    "    fr = 0\n",
    "\n",
    "    num = 1\n",
    "\n",
    "    finger_disp = 0\n",
    "\n",
    "    fingerC = 0\n",
    "\n",
    "    while(True):\n",
    "\n",
    "        (grabbed, frame) = camera.read()\n",
    "\n",
    "        frame = imutils.resize(frame, width=700)\n",
    "\n",
    "        frame = cv2.flip(frame, 1)\n",
    "\n",
    "        clone = frame.copy()\n",
    "\n",
    "        (height, width) = frame.shape[:2]\n",
    "\n",
    "        roi = frame[top:bottom, right:left]\n",
    "\n",
    "        gray = cv2.cvtColor(roi, cv2.COLOR_BGR2GRAY)\n",
    "\n",
    "        gray = cv2.GaussianBlur(gray, (7, 7), 0)\n",
    "\n",
    "        if num_frames < 50:\n",
    "            \n",
    "            bg = RunAvg(gray, aWeight,bg)\n",
    "\n",
    "        else:\n",
    "\n",
    "            if (num_frames == 50):\n",
    "                print(''' \n",
    "\n",
    "                Background Readed\n",
    "                \n",
    "                We are good to Go !!!\n",
    "                \n",
    "                ''')\n",
    "            \n",
    "            hand = segment(gray,bg)\n",
    "\n",
    "            if hand is not None:\n",
    "                \n",
    "                (thresholded, segmented) = hand\n",
    "\n",
    "                cv2.drawContours(clone, [segmented + (right, top)], -1, (0, 0, 255))\n",
    "                \n",
    "                fingers,chull = count(thresholded,segmented)      \n",
    "\n",
    "                if num % 10 == 0:\n",
    "\n",
    "                    finger_disp = fingerC\n",
    "\n",
    "                    fingerC = 0\n",
    "\n",
    "                else:\n",
    "                    fingerC += fingers\n",
    "\n",
    "                    num += 1\n",
    "\n",
    "                res = predict(thresholded)\n",
    "                \n",
    "                cv2.putText(clone, str(int(fingers)), (70, 85), cv2.FONT_HERSHEY_SIMPLEX, 1, (0,0,255), 2)\n",
    "\n",
    "                cv2.imshow(\"Thesholded\", thresholded)\n",
    "                \n",
    "                cv2.putText(clone,res, (70, 35), cv2.FONT_HERSHEY_SIMPLEX, 1, (0,0,255), 2)\n",
    "\n",
    "                # if (num_frames%2 == 0):\n",
    "\n",
    "                #     if (res == \"front\" or res == \"back\"):\n",
    "\n",
    "                #         x.front_back(res)\n",
    "                    \n",
    "                #     if (res == \"left\" or res == \"right\"):\n",
    "\n",
    "                        # x.left_right(res)\n",
    "                \n",
    "        prevfin = fingers\n",
    "\n",
    "        cv2.rectangle(clone, (left, top), (right, bottom), (0,255,0), 2)\n",
    "        \n",
    "        num_frames += 1\n",
    "\n",
    "        cv2.imshow(\"Video Feed\", clone)\n",
    "        \n",
    "        keypress = cv2.waitKey(1) & 0xFF\n",
    "\n",
    "        if num_frames == 100000:\n",
    "\n",
    "            break\n",
    "\n",
    "\n",
    "\n"
   ]
  },
  {
   "cell_type": "code",
   "execution_count": null,
   "metadata": {},
   "outputs": [],
   "source": []
  }
 ],
 "metadata": {
  "interpreter": {
   "hash": "916dbcbb3f70747c44a77c7bcd40155683ae19c65e1c03b4aa3499c5328201f1"
  },
  "kernelspec": {
   "display_name": "Python 3.8.10 64-bit",
   "language": "python",
   "name": "python3"
  },
  "language_info": {
   "codemirror_mode": {
    "name": "ipython",
    "version": 3
   },
   "file_extension": ".py",
   "mimetype": "text/x-python",
   "name": "python",
   "nbconvert_exporter": "python",
   "pygments_lexer": "ipython3",
   "version": "3.8.10"
  },
  "orig_nbformat": 4
 },
 "nbformat": 4,
 "nbformat_minor": 2
}
