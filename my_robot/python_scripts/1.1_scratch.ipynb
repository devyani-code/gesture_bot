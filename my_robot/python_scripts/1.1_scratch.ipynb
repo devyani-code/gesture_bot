{
 "cells": [
  {
   "cell_type": "code",
   "execution_count": 1,
   "metadata": {},
   "outputs": [],
   "source": [
    "import numpy as np\n",
    "import pandas as pd\n",
    "import matplotlib.pyplot as plt\n",
    "import seaborn as sns\n",
    "import os\n",
    "import cv2\n",
    "import tensorflow as tf\n",
    "from tensorflow.keras.layers import Dense,Flatten,Conv2D,Dropout,InputLayer,MaxPool2D\n",
    "from tensorflow.keras.models import Model,Sequential\n",
    "from tensorflow.keras.optimizers import Adam\n",
    "from tensorflow.keras.losses import CategoricalCrossentropy,BinaryCrossentropy,mean_squared_error,mean_absolute_error\n",
    "from tensorflow.keras.metrics import Accuracy\n",
    "from sklearn.model_selection import train_test_split\n",
    "from sklearn.metrics import classification_report\n",
    "from sklearn.preprocessing import LabelEncoder, OneHotEncoder\n",
    "lenc = LabelEncoder()\n",
    "ohe = OneHotEncoder()"
   ]
  },
  {
   "cell_type": "code",
   "execution_count": 2,
   "metadata": {},
   "outputs": [],
   "source": [
    "N_CLASSES = 5\n",
    "IMSIZE = (128,128,3)\n",
    "INPUT_SIZE = 1000"
   ]
  },
  {
   "cell_type": "code",
   "execution_count": 5,
   "metadata": {},
   "outputs": [],
   "source": [
    "model = Sequential()\n",
    "model.add(InputLayer(input_shape=IMSIZE))\n",
    "model.add(Conv2D(64,(5,5),activation='relu',strides=(2,2),padding='same'))\n",
    "model.add(Conv2D(64,(3,3),activation='relu',strides=(2,2),padding='same'))\n",
    "\n",
    "model.add(Conv2D(64,(1,1),activation='relu',padding='same'))\n",
    "model.add(Conv2D(64,(3,3),activation='relu',padding='same'))\n",
    "model.add(Conv2D(128,(3,3),activation='relu',padding='same'))\n",
    "model.add(MaxPool2D(pool_size=(2,2)))\n",
    "\n",
    "model.add(Conv2D(128,(1,1),activation='relu',padding='same'))\n",
    "model.add(Conv2D(128,(3,3),activation='relu',padding='same'))\n",
    "model.add(Conv2D(256,(3,3),activation='relu',padding='same'))\n",
    "model.add(MaxPool2D(pool_size=(2,2)))\n",
    "model.add(Dropout(0.4))\n",
    "\n",
    "model.add(Conv2D(256,(1,1),activation='relu',padding='same'))\n",
    "model.add(Conv2D(256,(3,3),activation='relu',padding='same'))\n",
    "model.add(Conv2D(512,(3,3),activation='relu',padding='same'))\n",
    "model.add(MaxPool2D(pool_size=(2,2)))\n",
    "\n",
    "model.add(Conv2D(512,(1,1),activation='relu',padding='same'))\n",
    "model.add(Conv2D(512,(3,3),activation='relu',padding='same'))\n",
    "model.add(Conv2D(1024,(3,3),activation='relu',padding='same'))\n",
    "model.add(Dropout(0.4))\n",
    "\n",
    "model.add(Flatten())\n",
    "\n",
    "model.add(Dense(1024,activation='relu'))\n",
    "model.add(Dense(256,activation='relu'))\n",
    "model.add(Dropout(0.4))\n",
    "\n",
    "model.add(Dense(N_CLASSES,activation='softmax'))\n"
   ]
  },
  {
   "cell_type": "code",
   "execution_count": 6,
   "metadata": {},
   "outputs": [],
   "source": [
    "model.compile(loss=BinaryCrossentropy(from_logits=False),optimizer='sgd',metrics=Accuracy())"
   ]
  },
  {
   "cell_type": "code",
   "execution_count": 7,
   "metadata": {},
   "outputs": [],
   "source": [
    "Data = pd.read_csv(\"gestures.csv\")\n",
    "X,Y = np.array(Data.drop(columns=\"classes\")).reshape(-1,128,128,3), ohe.fit_transform(np.array(Data.classes).reshape(-1,1)).toarray()\n",
    "xtrain,xtest,ytrain,ytest = train_test_split(X,Y,train_size=0.8)\n",
    "del X,Y,Data\n"
   ]
  },
  {
   "cell_type": "code",
   "execution_count": 8,
   "metadata": {},
   "outputs": [
    {
     "data": {
      "image/png": "[encoded data removed]",
      "text/plain": [
       "<Figure size 720x432 with 1 Axes>"
      ]
     },
     "metadata": {
      "needs_background": "light"
     },
     "output_type": "display_data"
    }
   ],
   "source": [
    "y = ohe.inverse_transform(ytrain)\n",
    "\n",
    "plt.figure(\"countplot\",figsize=(10,6))\n",
    "sns.countplot(x=y.flatten())\n",
    "plt.show()"
   ]
  },
  {
   "cell_type": "code",
   "execution_count": 9,
   "metadata": {},
   "outputs": [
    {
     "name": "stdout",
     "output_type": "stream",
     "text": [
      "Epoch 1/20\n"
     ]
    },
    {
     "name": "stderr",
     "output_type": "stream",
     "text": [
      "2022-05-21 15:29:07.808596: W tensorflow/core/framework/cpu_allocator_impl.cc:82] Allocation of 1258291200 exceeds 10% of free system memory.\n"
     ]
    },
    {
     "name": "stdout",
     "output_type": "stream",
     "text": [
      "160/160 [==============================] - 78s 485ms/step - loss: 0.6540 - accuracy: 0.0000e+00 - val_loss: 0.6129 - val_accuracy: 0.0000e+00\n",
      "Epoch 2/20\n",
      "160/160 [==============================] - 76s 478ms/step - loss: 0.5675 - accuracy: 0.0000e+00 - val_loss: 0.5165 - val_accuracy: 0.0000e+00\n",
      "Epoch 3/20\n",
      "160/160 [==============================] - 76s 473ms/step - loss: 0.5060 - accuracy: 0.0000e+00 - val_loss: 0.4999 - val_accuracy: 0.0000e+00\n",
      "Epoch 4/20\n",
      "160/160 [==============================] - 75s 466ms/step - loss: 0.5031 - accuracy: 0.0000e+00 - val_loss: 0.4987 - val_accuracy: 0.0000e+00\n",
      "Epoch 5/20\n",
      "160/160 [==============================] - 75s 471ms/step - loss: 0.5017 - accuracy: 0.0000e+00 - val_loss: 0.4966 - val_accuracy: 0.0000e+00\n",
      "Epoch 6/20\n",
      "160/160 [==============================] - 72s 453ms/step - loss: 0.4973 - accuracy: 0.0000e+00 - val_loss: 0.4907 - val_accuracy: 0.0000e+00\n",
      "Epoch 7/20\n",
      "160/160 [==============================] - 69s 432ms/step - loss: 0.4894 - accuracy: 0.0000e+00 - val_loss: 0.4710 - val_accuracy: 0.0000e+00\n",
      "Epoch 8/20\n",
      "160/160 [==============================] - 64s 398ms/step - loss: 0.4652 - accuracy: 0.0000e+00 - val_loss: 0.4323 - val_accuracy: 0.0000e+00\n",
      "Epoch 9/20\n",
      "160/160 [==============================] - 64s 402ms/step - loss: 0.4318 - accuracy: 0.0000e+00 - val_loss: 0.3782 - val_accuracy: 0.0000e+00\n",
      "Epoch 10/20\n",
      "160/160 [==============================] - 71s 447ms/step - loss: 0.3825 - accuracy: 0.0000e+00 - val_loss: 0.3340 - val_accuracy: 0.0000e+00\n",
      "Epoch 11/20\n",
      "160/160 [==============================] - 71s 444ms/step - loss: 0.3479 - accuracy: 0.0000e+00 - val_loss: 0.2980 - val_accuracy: 0.0000e+00\n",
      "Epoch 12/20\n",
      "160/160 [==============================] - 71s 444ms/step - loss: 0.3195 - accuracy: 0.0000e+00 - val_loss: 0.2671 - val_accuracy: 0.0000e+00\n",
      "Epoch 13/20\n",
      "160/160 [==============================] - 68s 427ms/step - loss: 0.2925 - accuracy: 0.0000e+00 - val_loss: 0.2419 - val_accuracy: 0.0000e+00\n",
      "Epoch 14/20\n",
      "160/160 [==============================] - 71s 442ms/step - loss: 0.2694 - accuracy: 2.5000e-04 - val_loss: 0.2159 - val_accuracy: 0.0000e+00\n",
      "Epoch 15/20\n",
      "160/160 [==============================] - 71s 442ms/step - loss: 0.2398 - accuracy: 0.0012 - val_loss: 0.1792 - val_accuracy: 0.0000e+00\n",
      "Epoch 16/20\n",
      "160/160 [==============================] - 71s 441ms/step - loss: 0.2070 - accuracy: 0.0025 - val_loss: 0.1554 - val_accuracy: 2.5000e-04\n",
      "Epoch 17/20\n",
      "160/160 [==============================] - 69s 429ms/step - loss: 0.1812 - accuracy: 0.0047 - val_loss: 0.1459 - val_accuracy: 0.0010\n",
      "Epoch 18/20\n",
      "160/160 [==============================] - 63s 395ms/step - loss: 0.1566 - accuracy: 0.0070 - val_loss: 0.1163 - val_accuracy: 0.0027\n",
      "Epoch 19/20\n",
      "160/160 [==============================] - 64s 398ms/step - loss: 0.1356 - accuracy: 0.0118 - val_loss: 0.0977 - val_accuracy: 0.0200\n",
      "Epoch 20/20\n",
      "160/160 [==============================] - 65s 404ms/step - loss: 0.1232 - accuracy: 0.0168 - val_loss: 0.0985 - val_accuracy: 0.0137\n"
     ]
    },
    {
     "data": {
      "text/plain": [
       "<keras.callbacks.History at 0x7fe540351a60>"
      ]
     },
     "execution_count": 9,
     "metadata": {},
     "output_type": "execute_result"
    }
   ],
   "source": [
    "model.fit(xtrain,ytrain,validation_split=0.2,epochs=20,batch_size=20)"
   ]
  },
  {
   "cell_type": "code",
   "execution_count": 10,
   "metadata": {},
   "outputs": [],
   "source": [
    "res = model.predict(xtest).round(1)"
   ]
  },
  {
   "cell_type": "code",
   "execution_count": 11,
   "metadata": {},
   "outputs": [],
   "source": [
    "res_f = ohe.inverse_transform(res)\n",
    "ytest_f = ohe.inverse_transform(ytest)"
   ]
  },
  {
   "cell_type": "code",
   "execution_count": 12,
   "metadata": {},
   "outputs": [
    {
     "name": "stdout",
     "output_type": "stream",
     "text": [
      "              precision    recall  f1-score   support\n",
      "\n",
      "           0       0.71      0.93      0.81       161\n",
      "           1       0.97      0.73      0.83       261\n",
      "           2       0.98      0.98      0.98       223\n",
      "           3       0.96      0.97      0.96       178\n",
      "           4       0.92      0.99      0.95       177\n",
      "\n",
      "    accuracy                           0.91      1000\n",
      "   macro avg       0.91      0.92      0.91      1000\n",
      "weighted avg       0.92      0.91      0.91      1000\n",
      "\n"
     ]
    }
   ],
   "source": [
    "print(classification_report(res_f,ytest_f))"
   ]
  },
  {
   "cell_type": "code",
   "execution_count": 13,
   "metadata": {},
   "outputs": [
    {
     "data": {
      "image/png": "[encoded data removed]",
      "text/plain": [
       "<Figure size 720x432 with 1 Axes>"
      ]
     },
     "metadata": {
      "needs_background": "light"
     },
     "output_type": "display_data"
    }
   ],
   "source": [
    "yt = ohe.inverse_transform(ytest)\n",
    "\n",
    "plt.figure(\"countplot\",figsize=(10,6))\n",
    "sns.countplot(x=yt.flatten())\n",
    "plt.show()"
   ]
  },
  {
   "cell_type": "code",
   "execution_count": null,
   "metadata": {},
   "outputs": [],
   "source": []
  }
 ],
 "metadata": {
  "interpreter": {
   "hash": "916dbcbb3f70747c44a77c7bcd40155683ae19c65e1c03b4aa3499c5328201f1"
  },
  "kernelspec": {
   "display_name": "Python 3.8.10 64-bit",
   "language": "python",
   "name": "python3"
  },
  "language_info": {
   "codemirror_mode": {
    "name": "ipython",
    "version": 3
   },
   "file_extension": ".py",
   "mimetype": "text/x-python",
   "name": "python",
   "nbconvert_exporter": "python",
   "pygments_lexer": "ipython3",
   "version": "3.8.10"
  },
  "orig_nbformat": 4
 },
 "nbformat": 4,
 "nbformat_minor": 2
}
