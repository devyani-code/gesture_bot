{
 "cells": [
  {
   "cell_type": "code",
   "execution_count": 1,
   "metadata": {},
   "outputs": [
    {
     "name": "stderr",
     "output_type": "stream",
     "text": [
      "2022-08-21 04:33:15.386354: W tensorflow/stream_executor/platform/default/dso_loader.cc:64] Could not load dynamic library 'libcudart.so.11.0'; dlerror: libcudart.so.11.0: cannot open shared object file: No such file or directory; LD_LIBRARY_PATH: /home/dark/anaconda3/envs/michelin/lib/python3.9/site-packages/cv2/../../lib64:/opt/ros/noetic/lib\n",
      "2022-08-21 04:33:15.386412: I tensorflow/stream_executor/cuda/cudart_stub.cc:29] Ignore above cudart dlerror if you do not have a GPU set up on your machine.\n"
     ]
    }
   ],
   "source": [
    "#!/usr/bin/env python3\n",
    "#!/usr/bin/env python\n",
    "\n",
    "import rospy\n",
    "import cv2\n",
    "\n",
    "from sensor_msgs.msg import Image\n",
    "from cv_bridge import CvBridge, CvBridgeError\n",
    "from imageai.Detection import VideoObjectDetection\n",
    "INDEX = 0\n",
    "\n",
    "class CameraOne:\n",
    "    \"\"\"\n",
    "    Camera Class\n",
    "    \"\"\"\n",
    "    def __init__(self):\n",
    "        self.image_sub = rospy.Subscriber(\"/camera/rgb/image_raw\", Image, self.callback)\n",
    "\n",
    "    def callback(self,data):\n",
    "        global INDEX\n",
    "        \"\"\"\n",
    "        CALLBACK FUNCTION\n",
    "        \"\"\"\n",
    "        bridge = CvBridge()\n",
    "\n",
    "        try:\n",
    "            cv_image = bridge.imgmsg_to_cv2(data, desired_encoding=\"bgr8\")\n",
    "        except CvBridgeError as _e:\n",
    "            rospy.logerr(_e)\n",
    "\n",
    "        image = cv_image\n",
    "        resized_image = cv2.resize(image, (640, 360))\n",
    "        \n",
    "        cv2.imshow(\"Camera output resized\", resized_image)\n",
    "        cv2.imwrite(f\"recording/feed{INDEX}.jpg\", resized_image)\n",
    "        INDEX += 1\n",
    "        cv2.waitKey(3)\n",
    "\n",
    "def main():\n",
    "    \"\"\"\n",
    "    Main Function\n",
    "    \"\"\"\n",
    "    CameraOne()\n",
    "\n",
    "    try:\n",
    "        rospy.spin()\n",
    "    except KeyboardInterrupt:\n",
    "        rospy.loginfo(\"Shutting down\")\n",
    "\n",
    "    cv2.destroyAllWindows()\n",
    "\n",
    "if __name__ == '__main__':\n",
    "    rospy.init_node('camera_read', anonymous=False)\n",
    "    main()\n",
    "\n",
    "#EOL\n"
   ]
  },
  {
   "cell_type": "code",
   "execution_count": null,
   "metadata": {},
   "outputs": [],
   "source": []
  }
 ],
 "metadata": {
  "kernelspec": {
   "display_name": "Python 3.9.12 ('michelin')",
   "language": "python",
   "name": "python3"
  },
  "language_info": {
   "codemirror_mode": {
    "name": "ipython",
    "version": 3
   },
   "file_extension": ".py",
   "mimetype": "text/x-python",
   "name": "python",
   "nbconvert_exporter": "python",
   "pygments_lexer": "ipython3",
   "version": "3.9.12"
  },
  "orig_nbformat": 4,
  "vscode": {
   "interpreter": {
    "hash": "38a8dd3dc2b4811f55b162af07a6f7ce5a24340b9dab121414a2beba8ce7fbc0"
   }
  }
 },
 "nbformat": 4,
 "nbformat_minor": 2
}
