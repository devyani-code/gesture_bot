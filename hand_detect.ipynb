{
 "cells": [
  {
   "cell_type": "code",
   "execution_count": 80,
   "metadata": {},
   "outputs": [],
   "source": [
    "from utils import *"
   ]
  },
  {
   "cell_type": "code",
   "execution_count": 2,
   "metadata": {},
   "outputs": [],
   "source": [
    "x = []\n",
    "y = []\n",
    "height = []\n",
    "width = []\n",
    "\n",
    "image = []\n",
    "\n",
    "for i in range (1,61):\n",
    "    tree = ET.parse('hand_detect/openxml/hframe'+str(i)+'.xml')\n",
    "    root = tree.findall(\"object/bndbox/\")\n",
    "    im = cv2.imread(tree.findall(\"path\")[0].text)\n",
    "\n",
    "    top = int(root[1].text)\n",
    "    bottom = int(root[3].text)\n",
    "    left = int(root[0].text)\n",
    "    right = int(root[2].text)\n",
    "\n",
    "    image.append(im)\n",
    "    x.append(int((left+right)/2))\n",
    "    y.append(int((top+bottom)/2))\n",
    "    height.append(int(bottom-top))\n",
    "    width.append(int(right-left))\n",
    "\n",
    "Z = np.ones(60)\n",
    "X = np.array(x)\n",
    "Y = np.array(y)\n",
    "H = np.array(height)\n",
    "W = np.array(width)\n",
    "Image = np.array(image)/255\n"
   ]
  },
  {
   "cell_type": "code",
   "execution_count": 3,
   "metadata": {},
   "outputs": [
    {
     "data": {
      "text/plain": [
       "(60, 386, 600, 3)"
      ]
     },
     "execution_count": 3,
     "metadata": {},
     "output_type": "execute_result"
    }
   ],
   "source": [
    "Image.shape"
   ]
  },
  {
   "cell_type": "code",
   "execution_count": 4,
   "metadata": {},
   "outputs": [],
   "source": [
    "box = np.vstack([Z,X,Y,H,W]).T"
   ]
  },
  {
   "cell_type": "code",
   "execution_count": 5,
   "metadata": {},
   "outputs": [
    {
     "data": {
      "text/plain": [
       "(60, 5)"
      ]
     },
     "execution_count": 5,
     "metadata": {},
     "output_type": "execute_result"
    }
   ],
   "source": [
    "box.shape"
   ]
  },
  {
   "cell_type": "code",
   "execution_count": 6,
   "metadata": {},
   "outputs": [],
   "source": [
    "Nimg = []\n",
    "for i in range (1,41):\n",
    "    img = cv2.imread(\"hand_detect/frame\"+str(i)+\".jpg\")\n",
    "    Nimg.append(img)\n",
    "Nhand = np.array(Nimg)/255\n",
    "Z_0 = np.zeros(40).reshape(40,1)"
   ]
  },
  {
   "cell_type": "code",
   "execution_count": 7,
   "metadata": {},
   "outputs": [
    {
     "data": {
      "text/plain": [
       "(40, 386, 600, 3)"
      ]
     },
     "execution_count": 7,
     "metadata": {},
     "output_type": "execute_result"
    }
   ],
   "source": [
    "Nhand.shape"
   ]
  },
  {
   "cell_type": "code",
   "execution_count": 8,
   "metadata": {},
   "outputs": [
    {
     "name": "stderr",
     "output_type": "stream",
     "text": [
      "C:\\Users\\AADITY~1\\AppData\\Local\\Temp/ipykernel_972/1709062125.py:1: DeprecationWarning: This function is deprecated. Please call randint(0, 600 + 1) instead\n",
      "  no_Hand = np.random.random_integers(0,600,size=(40,4))\n"
     ]
    }
   ],
   "source": [
    "no_Hand = np.random.random_integers(0,600,size=(40,4))\n",
    "nohand = np.hstack([Z_0,no_Hand])"
   ]
  },
  {
   "cell_type": "code",
   "execution_count": 9,
   "metadata": {},
   "outputs": [
    {
     "data": {
      "text/plain": [
       "(40, 5)"
      ]
     },
     "execution_count": 9,
     "metadata": {},
     "output_type": "execute_result"
    }
   ],
   "source": [
    "nohand.shape"
   ]
  },
  {
   "cell_type": "code",
   "execution_count": 10,
   "metadata": {},
   "outputs": [],
   "source": [
    "data_y = np.vstack([box,nohand])"
   ]
  },
  {
   "cell_type": "code",
   "execution_count": 11,
   "metadata": {},
   "outputs": [
    {
     "data": {
      "text/plain": [
       "(100, 386, 600, 3)"
      ]
     },
     "execution_count": 11,
     "metadata": {},
     "output_type": "execute_result"
    }
   ],
   "source": [
    "data_x = np.vstack([Image,Nhand])\n",
    "data_x.shape"
   ]
  },
  {
   "cell_type": "code",
   "execution_count": 12,
   "metadata": {},
   "outputs": [],
   "source": [
    "Datax = data_x.reshape(100,-1)"
   ]
  },
  {
   "cell_type": "code",
   "execution_count": 13,
   "metadata": {},
   "outputs": [],
   "source": [
    "data = np.hstack([Datax,data_y])"
   ]
  },
  {
   "cell_type": "code",
   "execution_count": 14,
   "metadata": {},
   "outputs": [
    {
     "data": {
      "text/plain": [
       "(100, 694805)"
      ]
     },
     "execution_count": 14,
     "metadata": {},
     "output_type": "execute_result"
    }
   ],
   "source": [
    "data.shape"
   ]
  },
  {
   "cell_type": "code",
   "execution_count": 52,
   "metadata": {},
   "outputs": [],
   "source": [
    "headers = []\n",
    "for i in range (Datax.shape[1]):\n",
    "    headers.append(\"pixel\"+str(i))\n",
    "headers.append(\"object\")\n",
    "headers.append(\"xpos\")\n",
    "headers.append(\"ypos\")\n",
    "headers.append(\"height\")\n",
    "headers.append(\"width\")"
   ]
  },
  {
   "cell_type": "code",
   "execution_count": 56,
   "metadata": {},
   "outputs": [
    {
     "data": {
      "text/plain": [
       "'pixel694799'"
      ]
     },
     "execution_count": 56,
     "metadata": {},
     "output_type": "execute_result"
    }
   ],
   "source": [
    "headers[-6]"
   ]
  },
  {
   "cell_type": "code",
   "execution_count": 57,
   "metadata": {},
   "outputs": [],
   "source": [
    "Data = pd.DataFrame(data,columns=headers)"
   ]
  },
  {
   "cell_type": "code",
   "execution_count": 58,
   "metadata": {},
   "outputs": [
    {
     "name": "stdout",
     "output_type": "stream",
     "text": [
      "Index(['pixel0', 'pixel1'], dtype='object')\n"
     ]
    }
   ],
   "source": [
    "print(Data.columns[0:2])"
   ]
  },
  {
   "cell_type": "code",
   "execution_count": 59,
   "metadata": {},
   "outputs": [],
   "source": [
    "DataNew = Data.sample(frac=1).reset_index(drop=True)\n",
    "DataNew = DataNew.sample(frac=1).reset_index(drop=True)\n",
    "DataNew = DataNew.sample(frac=1).reset_index(drop=True)\n",
    "DataNew = DataNew.sample(frac=1).reset_index(drop=True)"
   ]
  },
  {
   "cell_type": "code",
   "execution_count": 60,
   "metadata": {},
   "outputs": [
    {
     "data": {
      "text/html": [
       "<div>\n",
       "<style scoped>\n",
       "    .dataframe tbody tr th:only-of-type {\n",
       "        vertical-align: middle;\n",
       "    }\n",
       "\n",
       "    .dataframe tbody tr th {\n",
       "        vertical-align: top;\n",
       "    }\n",
       "\n",
       "    .dataframe thead th {\n",
       "        text-align: right;\n",
       "    }\n",
       "</style>\n",
       "<table border=\"1\" class=\"dataframe\">\n",
       "  <thead>\n",
       "    <tr style=\"text-align: right;\">\n",
       "      <th></th>\n",
       "      <th>pixel0</th>\n",
       "      <th>pixel1</th>\n",
       "      <th>pixel2</th>\n",
       "      <th>pixel3</th>\n",
       "      <th>pixel4</th>\n",
       "      <th>pixel5</th>\n",
       "      <th>pixel6</th>\n",
       "      <th>pixel7</th>\n",
       "      <th>pixel8</th>\n",
       "      <th>pixel9</th>\n",
       "      <th>...</th>\n",
       "      <th>pixel694795</th>\n",
       "      <th>pixel694796</th>\n",
       "      <th>pixel694797</th>\n",
       "      <th>pixel694798</th>\n",
       "      <th>pixel694799</th>\n",
       "      <th>object</th>\n",
       "      <th>xpos</th>\n",
       "      <th>ypos</th>\n",
       "      <th>height</th>\n",
       "      <th>width</th>\n",
       "    </tr>\n",
       "  </thead>\n",
       "  <tbody>\n",
       "    <tr>\n",
       "      <th>0</th>\n",
       "      <td>0.603922</td>\n",
       "      <td>0.600000</td>\n",
       "      <td>0.607843</td>\n",
       "      <td>0.603922</td>\n",
       "      <td>0.600000</td>\n",
       "      <td>0.607843</td>\n",
       "      <td>0.603922</td>\n",
       "      <td>0.600000</td>\n",
       "      <td>0.607843</td>\n",
       "      <td>0.603922</td>\n",
       "      <td>...</td>\n",
       "      <td>0.411765</td>\n",
       "      <td>0.411765</td>\n",
       "      <td>0.419608</td>\n",
       "      <td>0.411765</td>\n",
       "      <td>0.411765</td>\n",
       "      <td>0.0</td>\n",
       "      <td>460.0</td>\n",
       "      <td>36.0</td>\n",
       "      <td>319.0</td>\n",
       "      <td>390.0</td>\n",
       "    </tr>\n",
       "    <tr>\n",
       "      <th>1</th>\n",
       "      <td>0.843137</td>\n",
       "      <td>0.843137</td>\n",
       "      <td>0.843137</td>\n",
       "      <td>0.843137</td>\n",
       "      <td>0.843137</td>\n",
       "      <td>0.843137</td>\n",
       "      <td>0.854902</td>\n",
       "      <td>0.847059</td>\n",
       "      <td>0.847059</td>\n",
       "      <td>0.854902</td>\n",
       "      <td>...</td>\n",
       "      <td>0.619608</td>\n",
       "      <td>0.615686</td>\n",
       "      <td>0.627451</td>\n",
       "      <td>0.619608</td>\n",
       "      <td>0.615686</td>\n",
       "      <td>0.0</td>\n",
       "      <td>274.0</td>\n",
       "      <td>64.0</td>\n",
       "      <td>380.0</td>\n",
       "      <td>305.0</td>\n",
       "    </tr>\n",
       "    <tr>\n",
       "      <th>2</th>\n",
       "      <td>0.658824</td>\n",
       "      <td>0.639216</td>\n",
       "      <td>0.647059</td>\n",
       "      <td>0.658824</td>\n",
       "      <td>0.639216</td>\n",
       "      <td>0.647059</td>\n",
       "      <td>0.658824</td>\n",
       "      <td>0.639216</td>\n",
       "      <td>0.647059</td>\n",
       "      <td>0.658824</td>\n",
       "      <td>...</td>\n",
       "      <td>0.086275</td>\n",
       "      <td>0.078431</td>\n",
       "      <td>0.133333</td>\n",
       "      <td>0.086275</td>\n",
       "      <td>0.078431</td>\n",
       "      <td>1.0</td>\n",
       "      <td>292.0</td>\n",
       "      <td>123.0</td>\n",
       "      <td>223.0</td>\n",
       "      <td>193.0</td>\n",
       "    </tr>\n",
       "    <tr>\n",
       "      <th>3</th>\n",
       "      <td>0.611765</td>\n",
       "      <td>0.592157</td>\n",
       "      <td>0.596078</td>\n",
       "      <td>0.611765</td>\n",
       "      <td>0.592157</td>\n",
       "      <td>0.596078</td>\n",
       "      <td>0.611765</td>\n",
       "      <td>0.592157</td>\n",
       "      <td>0.596078</td>\n",
       "      <td>0.611765</td>\n",
       "      <td>...</td>\n",
       "      <td>0.082353</td>\n",
       "      <td>0.074510</td>\n",
       "      <td>0.129412</td>\n",
       "      <td>0.082353</td>\n",
       "      <td>0.074510</td>\n",
       "      <td>1.0</td>\n",
       "      <td>455.0</td>\n",
       "      <td>264.0</td>\n",
       "      <td>190.0</td>\n",
       "      <td>165.0</td>\n",
       "    </tr>\n",
       "    <tr>\n",
       "      <th>4</th>\n",
       "      <td>0.858824</td>\n",
       "      <td>0.843137</td>\n",
       "      <td>0.839216</td>\n",
       "      <td>0.858824</td>\n",
       "      <td>0.843137</td>\n",
       "      <td>0.839216</td>\n",
       "      <td>0.858824</td>\n",
       "      <td>0.843137</td>\n",
       "      <td>0.839216</td>\n",
       "      <td>0.858824</td>\n",
       "      <td>...</td>\n",
       "      <td>0.611765</td>\n",
       "      <td>0.607843</td>\n",
       "      <td>0.631373</td>\n",
       "      <td>0.611765</td>\n",
       "      <td>0.607843</td>\n",
       "      <td>0.0</td>\n",
       "      <td>321.0</td>\n",
       "      <td>423.0</td>\n",
       "      <td>258.0</td>\n",
       "      <td>556.0</td>\n",
       "    </tr>\n",
       "  </tbody>\n",
       "</table>\n",
       "<p>5 rows × 694805 columns</p>\n",
       "</div>"
      ],
      "text/plain": [
       "     pixel0    pixel1    pixel2    pixel3    pixel4    pixel5    pixel6  \\\n",
       "0  0.603922  0.600000  0.607843  0.603922  0.600000  0.607843  0.603922   \n",
       "1  0.843137  0.843137  0.843137  0.843137  0.843137  0.843137  0.854902   \n",
       "2  0.658824  0.639216  0.647059  0.658824  0.639216  0.647059  0.658824   \n",
       "3  0.611765  0.592157  0.596078  0.611765  0.592157  0.596078  0.611765   \n",
       "4  0.858824  0.843137  0.839216  0.858824  0.843137  0.839216  0.858824   \n",
       "\n",
       "     pixel7    pixel8    pixel9  ...  pixel694795  pixel694796  pixel694797  \\\n",
       "0  0.600000  0.607843  0.603922  ...     0.411765     0.411765     0.419608   \n",
       "1  0.847059  0.847059  0.854902  ...     0.619608     0.615686     0.627451   \n",
       "2  0.639216  0.647059  0.658824  ...     0.086275     0.078431     0.133333   \n",
       "3  0.592157  0.596078  0.611765  ...     0.082353     0.074510     0.129412   \n",
       "4  0.843137  0.839216  0.858824  ...     0.611765     0.607843     0.631373   \n",
       "\n",
       "   pixel694798  pixel694799  object   xpos   ypos  height  width  \n",
       "0     0.411765     0.411765     0.0  460.0   36.0   319.0  390.0  \n",
       "1     0.619608     0.615686     0.0  274.0   64.0   380.0  305.0  \n",
       "2     0.086275     0.078431     1.0  292.0  123.0   223.0  193.0  \n",
       "3     0.082353     0.074510     1.0  455.0  264.0   190.0  165.0  \n",
       "4     0.611765     0.607843     0.0  321.0  423.0   258.0  556.0  \n",
       "\n",
       "[5 rows x 694805 columns]"
      ]
     },
     "execution_count": 60,
     "metadata": {},
     "output_type": "execute_result"
    }
   ],
   "source": [
    "DataNew.head()"
   ]
  },
  {
   "cell_type": "code",
   "execution_count": 65,
   "metadata": {},
   "outputs": [],
   "source": [
    "datan = np.array(DataNew)"
   ]
  },
  {
   "cell_type": "code",
   "execution_count": 72,
   "metadata": {},
   "outputs": [],
   "source": [
    "Xdata = datan[:,:-5].reshape(-1,386,600,3)\n",
    "Ydata = datan[:,-5:].reshape(-1,5)"
   ]
  },
  {
   "cell_type": "code",
   "execution_count": 93,
   "metadata": {},
   "outputs": [],
   "source": [
    "def residual(input):\n",
    "    inp = Convolution2D(kernel_size=(1,1),filters=128,activation=relu,padding=\"same\")(input)\n",
    "    x = Convolution2D(kernel_size=(3,3),filters=32,padding=\"same\",kernel_initializer=\"normal\",activation=relu)(input)\n",
    "    x = Convolution2D(kernel_size=(3,3),filters=64,padding=\"same\",kernel_initializer=\"normal\",activation=relu)(x)\n",
    "    x = Convolution2D(kernel_size=(3,3),filters=128,padding=\"same\",kernel_initializer=\"normal\",activation=relu)(x)\n",
    "    x = Add()([x,inp])\n",
    "    output = MaxPool2D(pool_size=(2,2),strides=(2,2))(x)\n",
    "\n",
    "    return output\n"
   ]
  },
  {
   "cell_type": "code",
   "execution_count": 94,
   "metadata": {},
   "outputs": [
    {
     "name": "stdout",
     "output_type": "stream",
     "text": [
      "(100, 386, 600, 3) (100, 5)\n"
     ]
    }
   ],
   "source": [
    "print(Xdata.shape,Ydata.shape)"
   ]
  },
  {
   "cell_type": "code",
   "execution_count": 95,
   "metadata": {},
   "outputs": [],
   "source": [
    "inp = Input(shape=(386,600,3))\n",
    "for i in range (4):\n",
    "    intermidiate = residual(inp1)\n",
    "    inp1 = intermidiate\n",
    "\n",
    "ou = Flatten()(intermidiate)\n",
    "out = Dense(units=64,activation=relu,kernel_initializer=\"normal\")(ou)\n",
    "output = Dense(units=5,activation=softmax)"
   ]
  },
  {
   "cell_type": "code",
   "execution_count": null,
   "metadata": {},
   "outputs": [],
   "source": []
  }
 ],
 "metadata": {
  "interpreter": {
   "hash": "dc6cb71d57e3d7a1cf832a75ee7d91eb7c9c86cbec0d89313bbdeba96ca95d9c"
  },
  "kernelspec": {
   "display_name": "Python 3.9.6 64-bit",
   "language": "python",
   "name": "python3"
  },
  "language_info": {
   "codemirror_mode": {
    "name": "ipython",
    "version": 3
   },
   "file_extension": ".py",
   "mimetype": "text/x-python",
   "name": "python",
   "nbconvert_exporter": "python",
   "pygments_lexer": "ipython3",
   "version": "3.9.6"
  },
  "orig_nbformat": 4
 },
 "nbformat": 4,
 "nbformat_minor": 2
}
