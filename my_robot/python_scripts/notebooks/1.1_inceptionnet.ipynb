{
 "cells": [
  {
   "cell_type": "code",
   "execution_count": 1,
   "metadata": {},
   "outputs": [],
   "source": [
    "import numpy as np\n",
    "import pandas as pd\n",
    "import matplotlib.pyplot as plt\n",
    "import seaborn as sns\n",
    "import os\n",
    "import cv2\n",
    "import tensorflow as tf\n",
    "from sklearn.metrics import accuracy_score,classification_report\n",
    "from tensorflow.keras.layers import Dense,Flatten,Conv2D,Dropout\n",
    "from tensorflow.keras.applications.inception_resnet_v2 import InceptionResNetV2\n",
    "from tensorflow.keras.models import Model\n",
    "from tensorflow.keras.optimizers import Adam\n",
    "from tensorflow.keras.losses import CategoricalCrossentropy,BinaryCrossentropy,mean_squared_error,mean_absolute_error\n",
    "from tensorflow.keras.metrics import Accuracy\n",
    "from sklearn.metrics import classification_report\n",
    "from sklearn.model_selection import train_test_split\n",
    "from sklearn.preprocessing import LabelEncoder, OneHotEncoder\n",
    "lenc = LabelEncoder()\n",
    "ohe = OneHotEncoder()\n",
    "from tensorflow.keras.preprocessing.image import ImageDataGenerator\n"
   ]
  },
  {
   "cell_type": "code",
   "execution_count": 2,
   "metadata": {},
   "outputs": [],
   "source": [
    "N_CLASSES = 5\n",
    "IMSIZE = (128,128,3)\n",
    "INPUT_SIZE = 1000"
   ]
  },
  {
   "cell_type": "code",
   "execution_count": 3,
   "metadata": {},
   "outputs": [],
   "source": [
    "def finetuned_inceptionresnet(include_top=False):\n",
    "    base_model = InceptionResNetV2(include_top=include_top,input_shape=IMSIZE,weights='imagenet')\n",
    "    for layer in base_model.layers:\n",
    "        layer.trainable = False\n",
    "\n",
    "    x = base_model.output\n",
    "    x = Flatten()(x)\n",
    "    x = Dropout(0.4)(x)\n",
    "    x = Dense(1024, activation='relu')(x)\n",
    "\n",
    "    if not include_top:\n",
    "        x = Dense(N_CLASSES, activation='softmax')(x)\n",
    "\n",
    "    model = Model(inputs=base_model.input, outputs=x)\n",
    "    model.compile(optimizer=Adam(),loss=BinaryCrossentropy(from_logits=False),metrics=Accuracy())\n",
    "\n",
    "    return model"
   ]
  },
  {
   "cell_type": "code",
   "execution_count": 7,
   "metadata": {},
   "outputs": [
    {
     "name": "stdout",
     "output_type": "stream",
     "text": [
      "Found 5180 images belonging to 5 classes.\n"
     ]
    }
   ],
   "source": [
    "DATA_DIR = 'data'\n",
    "IMAGE_DIR = f'../{DATA_DIR}/dataset'\n",
    "\n",
    "image_generator = ImageDataGenerator(\n",
    "    rescale=1./255,\n",
    "    # rotation_range=augmentation_config['rotation_range'],\n",
    "    # width_shift_range=augmentation_config['width_shift_range'],\n",
    "    # height_shift_range=augmentation_config['height_shift_range'],\n",
    "    # shear_range=augmentation_config['shear_range'],\n",
    "    # zoom_range=augmentation_config['zoom_range'],\n",
    "    # horizontal_flip=augmentation_config['horizontal_flip'],\n",
    "    )\n",
    "image_data = image_generator.flow_from_directory(\n",
    "    IMAGE_DIR,\n",
    "    target_size=(128,128),\n",
    "    batch_size=256,\n",
    "    class_mode='categorical',\n",
    ")"
   ]
  },
  {
   "cell_type": "code",
   "execution_count": 10,
   "metadata": {},
   "outputs": [],
   "source": [
    "inception_model = finetuned_inceptionresnet()\n"
   ]
  },
  {
   "cell_type": "code",
   "execution_count": 6,
   "metadata": {},
   "outputs": [],
   "source": [
    "# X,Y = np.array(Data.drop(columns=\"classes\")).reshape(-1,128,128,3), ohe.fit_transform(np.array(Data.classes).reshape(-1,1)).toarray()\n",
    "# xtrain,xtest,ytrain,ytest = train_test_split(X,Y,train_size=0.8)\n",
    "# del X,Y,Data\n"
   ]
  },
  {
   "cell_type": "code",
   "execution_count": 9,
   "metadata": {},
   "outputs": [
    {
     "data": {
      "image/png": "[encoded data removed]",
      "text/plain": [
       "<Figure size 720x432 with 1 Axes>"
      ]
     },
     "metadata": {
      "needs_background": "light"
     },
     "output_type": "display_data"
    }
   ],
   "source": [
    "y = ohe.inverse_transform(ytrain)\n",
    "\n",
    "plt.figure(\"countplot\",figsize=(10,6))\n",
    "sns.countplot(x=y.flatten())\n",
    "plt.show()"
   ]
  },
  {
   "cell_type": "code",
   "execution_count": 12,
   "metadata": {},
   "outputs": [
    {
     "name": "stdout",
     "output_type": "stream",
     "text": [
      "Epoch 1/20\n",
      "21/21 [==============================] - 26s 1s/step - loss: 0.0413 - accuracy: 0.7674\n",
      "Epoch 2/20\n",
      "21/21 [==============================] - 26s 1s/step - loss: 0.0277 - accuracy: 0.7705\n",
      "Epoch 3/20\n",
      "21/21 [==============================] - 26s 1s/step - loss: 0.0265 - accuracy: 0.7654\n",
      "Epoch 4/20\n",
      "21/21 [==============================] - 26s 1s/step - loss: 0.0204 - accuracy: 0.7644\n",
      "Epoch 5/20\n",
      "21/21 [==============================] - 26s 1s/step - loss: 0.0205 - accuracy: 0.7635\n",
      "Epoch 6/20\n",
      "21/21 [==============================] - 26s 1s/step - loss: 0.0184 - accuracy: 0.7627\n",
      "Epoch 7/20\n",
      " 2/21 [=>............................] - ETA: 24s - loss: 0.0181 - accuracy: 0.7777"
     ]
    }
   ],
   "source": [
    "inception_model.optimizer.learning_rate = 0.001\n",
    "\n",
    "inception_model.fit(image_data,epochs=20)\n"
   ]
  },
  {
   "cell_type": "code",
   "execution_count": null,
   "metadata": {},
   "outputs": [],
   "source": [
    "res = inception_model.predict(xtest).round(1)"
   ]
  },
  {
   "cell_type": "code",
   "execution_count": null,
   "metadata": {},
   "outputs": [],
   "source": [
    "res_f = ohe.inverse_transform(res)\n",
    "ytest_f = ohe.inverse_transform(ytest)"
   ]
  },
  {
   "cell_type": "code",
   "execution_count": null,
   "metadata": {},
   "outputs": [
    {
     "name": "stdout",
     "output_type": "stream",
     "text": [
      "              precision    recall  f1-score   support\n",
      "\n",
      "           0       0.95      0.97      0.96       217\n",
      "           1       0.97      0.97      0.97       197\n",
      "           2       1.00      0.96      0.98       193\n",
      "           3       0.97      0.97      0.97       192\n",
      "           4       0.99      1.00      1.00       201\n",
      "\n",
      "    accuracy                           0.98      1000\n",
      "   macro avg       0.98      0.98      0.98      1000\n",
      "weighted avg       0.98      0.98      0.98      1000\n",
      "\n"
     ]
    },
    {
     "ename": "",
     "evalue": "",
     "output_type": "error",
     "traceback": [
      "\u001b[1;31mThe Kernel crashed while executing code in the the current cell or a previous cell. Please review the code in the cell(s) to identify a possible cause of the failure. Click <a href='https://aka.ms/vscodeJupyterKernelCrash'>here</a> for more info. View Jupyter <a href='command:jupyter.viewOutput'>log</a> for further details."
     ]
    }
   ],
   "source": [
    "print(classification_report(res_f,ytest_f))"
   ]
  },
  {
   "cell_type": "code",
   "execution_count": null,
   "metadata": {},
   "outputs": [],
   "source": []
  }
 ],
 "metadata": {
  "kernelspec": {
   "display_name": "Python 3.9.12 ('tf')",
   "language": "python",
   "name": "python3"
  },
  "language_info": {
   "codemirror_mode": {
    "name": "ipython",
    "version": 3
   },
   "file_extension": ".py",
   "mimetype": "text/x-python",
   "name": "python",
   "nbconvert_exporter": "python",
   "pygments_lexer": "ipython3",
   "version": "3.9.12"
  },
  "orig_nbformat": 4,
  "vscode": {
   "interpreter": {
    "hash": "7575d3b4693a120f9db1d690d5dca1c64b6c1eb8514f8cd44a178527d835c61f"
   }
  }
 },
 "nbformat": 4,
 "nbformat_minor": 2
}
