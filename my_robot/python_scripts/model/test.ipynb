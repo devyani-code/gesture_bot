{
 "cells": [
  {
   "cell_type": "code",
   "execution_count": 6,
   "metadata": {},
   "outputs": [
    {
     "name": "stdout",
     "output_type": "stream",
     "text": [
      "Found 100 images belonging to 5 classes.\n"
     ]
    }
   ],
   "source": [
    "import numpy as np\n",
    "import os, sys\n",
    "sys.path.append(os.getcwd())\n",
    "import random\n",
    "from tensorflow.keras.preprocessing.image import ImageDataGenerator\n",
    "import copy\n",
    "import tensorflow as tf\n",
    "\n",
    "def generate_data(batch_size, target_size, augmentation_config):\n",
    "\n",
    "    DATA_DIR = 'data'\n",
    "    IMAGE_DIR = f'/home/dark/Documents/GitHub/Gesture-Recognition/my_robot/python_scripts/data/gestures'\n",
    "\n",
    "    image_generator = ImageDataGenerator(\n",
    "        rescale=1./255,\n",
    "        rotation_range=augmentation_config['rotation_range'],\n",
    "        width_shift_range=augmentation_config['width_shift_range'],\n",
    "        height_shift_range=augmentation_config['height_shift_range'],\n",
    "        shear_range=augmentation_config['shear_range'],\n",
    "        zoom_range=augmentation_config['zoom_range'],\n",
    "        horizontal_flip=augmentation_config['horizontal_flip'],\n",
    "        )\n",
    "    image_data = image_generator.flow_from_directory(\n",
    "        IMAGE_DIR,\n",
    "        target_size=target_size,\n",
    "        batch_size=batch_size,\n",
    "        class_mode='categorical',\n",
    "    )\n",
    "\n",
    "    return image_data\n",
    "\n",
    "\n",
    "def makePairs(data):\n",
    "    num_classes = 5\n",
    "    x, y = data\n",
    "    digit_indices = [np.where(y == i)[0] for i in range(num_classes)]\n",
    "\n",
    "    pairs = list()\n",
    "    labels = list()\n",
    "\n",
    "    for idx1 in range(len(x)):\n",
    "        x1 = x[idx1]\n",
    "        label1 = y[idx1]\n",
    "        idx2 = random.choice(digit_indices[label1])\n",
    "        x2 = x[idx2]\n",
    "        \n",
    "        labels += list([1])\n",
    "        pairs += [[x1, x2]]\n",
    "\n",
    "        label2 = random.randint(0, num_classes-1)\n",
    "        while label2 == label1:\n",
    "            label2 = random.randint(0, num_classes-1)\n",
    "\n",
    "        idx2 = random.choice(digit_indices[label2])\n",
    "        x2 = x[idx2]\n",
    "        \n",
    "        labels += list([0])\n",
    "        pairs += [[x1, x2]]\n",
    "    \n",
    "    return np.array(pairs), np.array(labels)\n",
    "\n",
    "a  = generate_data(batch_size=32, target_size=(128, 128), augmentation_config={'rotation_range': 0.0, 'width_shift_range': 0.0, 'height_shift_range': 0.0, 'shear_range': 0.0, 'zoom_range': 0.0, 'horizontal_flip': False})"
   ]
  },
  {
   "cell_type": "code",
   "execution_count": 8,
   "metadata": {},
   "outputs": [
    {
     "ename": "",
     "evalue": "",
     "output_type": "error",
     "traceback": [
      "\u001b[1;31mCanceled future for execute_request message before replies were done"
     ]
    },
    {
     "ename": "",
     "evalue": "",
     "output_type": "error",
     "traceback": [
      "\u001b[1;31mThe Kernel crashed while executing code in the the current cell or a previous cell. Please review the code in the cell(s) to identify a possible cause of the failure. Click <a href='https://aka.ms/vscodeJupyterKernelCrash'>here</a> for more info. View Jupyter <a href='command:jupyter.viewOutput'>log</a> for further details."
     ]
    }
   ],
   "source": [
    "x = []\n",
    "y = []\n",
    "for l in a:\n",
    "    x.append(l[0])\n",
    "    y.append(l[1])\n"
   ]
  },
  {
   "cell_type": "code",
   "execution_count": 4,
   "metadata": {},
   "outputs": [
    {
     "data": {
      "text/plain": [
       "32"
      ]
     },
     "execution_count": 4,
     "metadata": {},
     "output_type": "execute_result"
    }
   ],
   "source": [
    "a.batch_size"
   ]
  },
  {
   "cell_type": "code",
   "execution_count": 6,
   "metadata": {},
   "outputs": [
    {
     "ename": "TypeError",
     "evalue": "`generator` must be a Python callable.",
     "output_type": "error",
     "traceback": [
      "\u001b[0;31m---------------------------------------------------------------------------\u001b[0m",
      "\u001b[0;31mTypeError\u001b[0m                                 Traceback (most recent call last)",
      "\u001b[1;32m/home/dark/Documents/GitHub/Gesture-Recognition/my_robot/python_scripts/model/test.ipynb Cell 2'\u001b[0m in \u001b[0;36m<cell line: 1>\u001b[0;34m()\u001b[0m\n\u001b[0;32m----> <a href='vscode-notebook-cell:/home/dark/Documents/GitHub/Gesture-Recognition/my_robot/python_scripts/model/test.ipynb#ch0000003?line=0'>1</a>\u001b[0m tf\u001b[39m.\u001b[39;49mdata\u001b[39m.\u001b[39;49mDataset\u001b[39m.\u001b[39;49mfrom_generator(a)\n",
      "File \u001b[0;32m~/miniconda3/envs/tf/lib/python3.9/site-packages/tensorflow/python/util/deprecation.py:561\u001b[0m, in \u001b[0;36mdeprecated_args.<locals>.deprecated_wrapper.<locals>.new_func\u001b[0;34m(*args, **kwargs)\u001b[0m\n\u001b[1;32m    553\u001b[0m         _PRINTED_WARNING[(func, arg_name)] \u001b[39m=\u001b[39m \u001b[39mTrue\u001b[39;00m\n\u001b[1;32m    554\u001b[0m       logging\u001b[39m.\u001b[39mwarning(\n\u001b[1;32m    555\u001b[0m           \u001b[39m'\u001b[39m\u001b[39mFrom \u001b[39m\u001b[39m%s\u001b[39;00m\u001b[39m: calling \u001b[39m\u001b[39m%s\u001b[39;00m\u001b[39m (from \u001b[39m\u001b[39m%s\u001b[39;00m\u001b[39m) with \u001b[39m\u001b[39m%s\u001b[39;00m\u001b[39m is deprecated and will \u001b[39m\u001b[39m'\u001b[39m\n\u001b[1;32m    556\u001b[0m           \u001b[39m'\u001b[39m\u001b[39mbe removed \u001b[39m\u001b[39m%s\u001b[39;00m\u001b[39m.\u001b[39m\u001b[39m\\n\u001b[39;00m\u001b[39mInstructions for updating:\u001b[39m\u001b[39m\\n\u001b[39;00m\u001b[39m%s\u001b[39;00m\u001b[39m'\u001b[39m,\n\u001b[0;32m   (...)\u001b[0m\n\u001b[1;32m    559\u001b[0m           \u001b[39m'\u001b[39m\u001b[39min a future version\u001b[39m\u001b[39m'\u001b[39m \u001b[39mif\u001b[39;00m date \u001b[39mis\u001b[39;00m \u001b[39mNone\u001b[39;00m \u001b[39melse\u001b[39;00m (\u001b[39m'\u001b[39m\u001b[39mafter \u001b[39m\u001b[39m%s\u001b[39;00m\u001b[39m'\u001b[39m \u001b[39m%\u001b[39m date),\n\u001b[1;32m    560\u001b[0m           instructions)\n\u001b[0;32m--> 561\u001b[0m \u001b[39mreturn\u001b[39;00m func(\u001b[39m*\u001b[39;49margs, \u001b[39m*\u001b[39;49m\u001b[39m*\u001b[39;49mkwargs)\n",
      "File \u001b[0;32m~/miniconda3/envs/tf/lib/python3.9/site-packages/tensorflow/python/data/ops/dataset_ops.py:945\u001b[0m, in \u001b[0;36mDatasetV2.from_generator\u001b[0;34m(generator, output_types, output_shapes, args, output_signature, name)\u001b[0m\n\u001b[1;32m    864\u001b[0m \u001b[39m\"\"\"Creates a `Dataset` whose elements are generated by `generator`.\u001b[39;00m\n\u001b[1;32m    865\u001b[0m \n\u001b[1;32m    866\u001b[0m \u001b[39mNote: The current implementation of `Dataset.from_generator()` uses\u001b[39;00m\n\u001b[0;32m   (...)\u001b[0m\n\u001b[1;32m    942\u001b[0m \u001b[39m  Dataset: A `Dataset`.\u001b[39;00m\n\u001b[1;32m    943\u001b[0m \u001b[39m\"\"\"\u001b[39;00m\n\u001b[1;32m    944\u001b[0m \u001b[39mif\u001b[39;00m \u001b[39mnot\u001b[39;00m callable(generator):\n\u001b[0;32m--> 945\u001b[0m   \u001b[39mraise\u001b[39;00m \u001b[39mTypeError\u001b[39;00m(\u001b[39m\"\u001b[39m\u001b[39m`generator` must be a Python callable.\u001b[39m\u001b[39m\"\u001b[39m)\n\u001b[1;32m    947\u001b[0m \u001b[39mif\u001b[39;00m output_signature \u001b[39mis\u001b[39;00m \u001b[39mnot\u001b[39;00m \u001b[39mNone\u001b[39;00m:\n\u001b[1;32m    948\u001b[0m   \u001b[39mif\u001b[39;00m output_types \u001b[39mis\u001b[39;00m \u001b[39mnot\u001b[39;00m \u001b[39mNone\u001b[39;00m:\n",
      "\u001b[0;31mTypeError\u001b[0m: `generator` must be a Python callable."
     ]
    }
   ],
   "source": [
    "tf.data.Dataset.from_generator(a)"
   ]
  }
 ],
 "metadata": {
  "kernelspec": {
   "display_name": "Python 3.9.12 ('tf')",
   "language": "python",
   "name": "python3"
  },
  "language_info": {
   "codemirror_mode": {
    "name": "ipython",
    "version": 3
   },
   "file_extension": ".py",
   "mimetype": "text/x-python",
   "name": "python",
   "nbconvert_exporter": "python",
   "pygments_lexer": "ipython3",
   "version": "3.9.12"
  },
  "orig_nbformat": 4,
  "vscode": {
   "interpreter": {
    "hash": "7575d3b4693a120f9db1d690d5dca1c64b6c1eb8514f8cd44a178527d835c61f"
   }
  }
 },
 "nbformat": 4,
 "nbformat_minor": 2
}
