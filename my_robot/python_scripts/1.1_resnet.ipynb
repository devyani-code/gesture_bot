{
 "cells": [
  {
   "cell_type": "code",
   "execution_count": 1,
   "metadata": {},
   "outputs": [],
   "source": [
    "import numpy as np\n",
    "import pandas as pd\n",
    "import seaborn as sns\n",
    "import matplotlib.pyplot as plt\n",
    "import os\n",
    "import cv2\n",
    "import tensorflow as tf\n",
    "from tensorflow.keras.layers import Dense,Flatten,Conv2D,Dropout\n",
    "from tensorflow.keras.applications.resnet50 import ResNet50\n",
    "from tensorflow.keras.models import Model\n",
    "from tensorflow.keras.optimizers import Adam\n",
    "from tensorflow.keras.losses import CategoricalCrossentropy,BinaryCrossentropy,mean_squared_error,mean_absolute_error\n",
    "from tensorflow.keras.metrics import Accuracy\n",
    "from sklearn.model_selection import train_test_split\n",
    "from sklearn.preprocessing import LabelEncoder, OneHotEncoder\n",
    "from sklearn.metrics import classification_report\n",
    "lenc = LabelEncoder()\n",
    "ohe = OneHotEncoder()"
   ]
  },
  {
   "cell_type": "code",
   "execution_count": 2,
   "metadata": {},
   "outputs": [],
   "source": [
    "N_CLASSES = 5\n",
    "IMSIZE = (128,128,3)\n",
    "INPUT_SIZE = 1000"
   ]
  },
  {
   "cell_type": "code",
   "execution_count": 3,
   "metadata": {},
   "outputs": [],
   "source": [
    "def finetuned_resnet(include_top=False):\n",
    "    base_model = ResNet50(include_top=include_top,input_shape=IMSIZE)\n",
    "    for layer in base_model.layers:\n",
    "        layer.trainable = False\n",
    "\n",
    "    x = base_model.output\n",
    "    x = Flatten()(x)\n",
    "    x = Dropout(0.2)(x)\n",
    "    x = Dense(1024, activation='relu')(x)\n",
    "\n",
    "    if not include_top:\n",
    "        x = Dense(N_CLASSES, activation='softmax')(x)\n",
    "\n",
    "    model = Model(inputs=base_model.input, outputs=x)\n",
    "    model.compile(optimizer=Adam(),loss=BinaryCrossentropy(from_logits=False),metrics=Accuracy())\n",
    "\n",
    "    return model"
   ]
  },
  {
   "cell_type": "code",
   "execution_count": 4,
   "metadata": {},
   "outputs": [
    {
     "name": "stderr",
     "output_type": "stream",
     "text": [
      "2022-05-21 14:42:58.495149: E tensorflow/stream_executor/cuda/cuda_driver.cc:271] failed call to cuInit: CUDA_ERROR_NO_DEVICE: no CUDA-capable device is detected\n",
      "2022-05-21 14:42:58.495214: I tensorflow/stream_executor/cuda/cuda_diagnostics.cc:156] kernel driver does not appear to be running on this host (devil): /proc/driver/nvidia/version does not exist\n",
      "2022-05-21 14:42:58.496017: I tensorflow/core/platform/cpu_feature_guard.cc:151] This TensorFlow binary is optimized with oneAPI Deep Neural Network Library (oneDNN) to use the following CPU instructions in performance-critical operations:  AVX2 FMA\n",
      "To enable them in other operations, rebuild TensorFlow with the appropriate compiler flags.\n"
     ]
    }
   ],
   "source": [
    "resnet_model = finetuned_resnet()"
   ]
  },
  {
   "cell_type": "code",
   "execution_count": 5,
   "metadata": {},
   "outputs": [],
   "source": [
    "Data = pd.read_csv(\"gestures.csv\")"
   ]
  },
  {
   "cell_type": "code",
   "execution_count": 6,
   "metadata": {},
   "outputs": [],
   "source": [
    "X,Y = np.array(Data.drop(columns=\"classes\")).reshape(-1,128,128,3), ohe.fit_transform(np.array(Data.classes).reshape(-1,1)).toarray()\n",
    "xtrain,xtest,ytrain,ytest = train_test_split(X,Y,train_size=0.8)\n",
    "del Data"
   ]
  },
  {
   "cell_type": "code",
   "execution_count": 16,
   "metadata": {},
   "outputs": [
    {
     "data": {
      "image/png": "[encoded data removed]",
      "text/plain": [
       "<Figure size 720x432 with 1 Axes>"
      ]
     },
     "metadata": {
      "needs_background": "light"
     },
     "output_type": "display_data"
    }
   ],
   "source": [
    "y = ohe.inverse_transform(ytrain)\n",
    "\n",
    "plt.figure(\"countplot\",figsize=(10,6))\n",
    "sns.countplot(x=y.flatten())\n",
    "plt.show()"
   ]
  },
  {
   "cell_type": "code",
   "execution_count": 17,
   "metadata": {},
   "outputs": [
    {
     "name": "stdout",
     "output_type": "stream",
     "text": [
      "Epoch 1/20\n"
     ]
    },
    {
     "name": "stderr",
     "output_type": "stream",
     "text": [
      "2022-05-21 14:48:32.253238: W tensorflow/core/framework/cpu_allocator_impl.cc:82] Allocation of 1258291200 exceeds 10% of free system memory.\n"
     ]
    },
    {
     "name": "stdout",
     "output_type": "stream",
     "text": [
      "160/160 [==============================] - 69s 417ms/step - loss: 0.2639 - accuracy: 0.0000e+00 - val_loss: 0.1209 - val_accuracy: 0.0000e+00\n",
      "Epoch 2/20\n",
      "160/160 [==============================] - 67s 421ms/step - loss: 0.1103 - accuracy: 3.1250e-04 - val_loss: 0.0688 - val_accuracy: 2.5000e-04\n",
      "Epoch 3/20\n",
      "160/160 [==============================] - 63s 392ms/step - loss: 0.0901 - accuracy: 0.0016 - val_loss: 0.0529 - val_accuracy: 7.5000e-04\n",
      "Epoch 4/20\n",
      "160/160 [==============================] - 60s 374ms/step - loss: 0.0681 - accuracy: 0.0058 - val_loss: 0.0528 - val_accuracy: 0.0075\n",
      "Epoch 5/20\n",
      "160/160 [==============================] - 63s 394ms/step - loss: 0.0618 - accuracy: 0.0104 - val_loss: 0.0507 - val_accuracy: 0.0077\n",
      "Epoch 6/20\n",
      "160/160 [==============================] - 64s 402ms/step - loss: 0.0536 - accuracy: 0.0198 - val_loss: 0.0459 - val_accuracy: 0.0175\n",
      "Epoch 7/20\n",
      "160/160 [==============================] - 63s 394ms/step - loss: 0.0456 - accuracy: 0.0267 - val_loss: 0.0394 - val_accuracy: 0.0258\n",
      "Epoch 8/20\n",
      "160/160 [==============================] - 59s 369ms/step - loss: 0.0389 - accuracy: 0.0314 - val_loss: 0.0680 - val_accuracy: 0.0362\n",
      "Epoch 9/20\n",
      "160/160 [==============================] - 58s 365ms/step - loss: 0.0402 - accuracy: 0.0373 - val_loss: 0.0456 - val_accuracy: 0.0457\n",
      "Epoch 10/20\n",
      "160/160 [==============================] - 59s 366ms/step - loss: 0.0460 - accuracy: 0.0405 - val_loss: 0.0382 - val_accuracy: 0.0430\n",
      "Epoch 11/20\n",
      "160/160 [==============================] - 56s 353ms/step - loss: 0.0345 - accuracy: 0.0501 - val_loss: 0.0348 - val_accuracy: 0.0408\n",
      "Epoch 12/20\n",
      "160/160 [==============================] - 54s 338ms/step - loss: 0.0331 - accuracy: 0.0566 - val_loss: 0.0425 - val_accuracy: 0.0542\n",
      "Epoch 13/20\n",
      "160/160 [==============================] - 61s 381ms/step - loss: 0.0332 - accuracy: 0.0589 - val_loss: 0.0301 - val_accuracy: 0.0492\n",
      "Epoch 14/20\n",
      "160/160 [==============================] - 58s 362ms/step - loss: 0.0325 - accuracy: 0.0651 - val_loss: 0.0509 - val_accuracy: 0.0535\n",
      "Epoch 15/20\n",
      "160/160 [==============================] - 57s 359ms/step - loss: 0.0330 - accuracy: 0.0628 - val_loss: 0.0230 - val_accuracy: 0.0655\n",
      "Epoch 16/20\n",
      "160/160 [==============================] - 57s 359ms/step - loss: 0.0230 - accuracy: 0.0728 - val_loss: 0.0246 - val_accuracy: 0.0728\n",
      "Epoch 17/20\n",
      "160/160 [==============================] - 56s 353ms/step - loss: 0.0215 - accuracy: 0.0804 - val_loss: 0.0297 - val_accuracy: 0.0793\n",
      "Epoch 18/20\n",
      "160/160 [==============================] - 58s 365ms/step - loss: 0.0351 - accuracy: 0.0723 - val_loss: 0.0679 - val_accuracy: 0.0535\n",
      "Epoch 19/20\n",
      "160/160 [==============================] - 58s 365ms/step - loss: 0.0282 - accuracy: 0.0726 - val_loss: 0.0331 - val_accuracy: 0.0838\n",
      "Epoch 20/20\n",
      "160/160 [==============================] - 58s 360ms/step - loss: 0.0197 - accuracy: 0.0836 - val_loss: 0.0207 - val_accuracy: 0.0913\n"
     ]
    },
    {
     "data": {
      "text/plain": [
       "<keras.callbacks.History at 0x7f78cc411d60>"
      ]
     },
     "execution_count": 17,
     "metadata": {},
     "output_type": "execute_result"
    }
   ],
   "source": [
    "resnet_model.fit(xtrain,ytrain,epochs=20,validation_split=0.2,batch_size=20)"
   ]
  },
  {
   "cell_type": "code",
   "execution_count": 18,
   "metadata": {},
   "outputs": [],
   "source": [
    "res = resnet_model.predict(xtest).round(1)"
   ]
  },
  {
   "cell_type": "code",
   "execution_count": 19,
   "metadata": {},
   "outputs": [],
   "source": [
    "res_f = ohe.inverse_transform(res)\n",
    "ytest_f = ohe.inverse_transform(ytest)"
   ]
  },
  {
   "cell_type": "code",
   "execution_count": 20,
   "metadata": {},
   "outputs": [
    {
     "name": "stdout",
     "output_type": "stream",
     "text": [
      "              precision    recall  f1-score   support\n",
      "\n",
      "           0       0.97      0.95      0.96       202\n",
      "           1       0.95      0.98      0.97       200\n",
      "           2       0.99      0.99      0.99       189\n",
      "           3       0.98      0.99      0.98       198\n",
      "           4       1.00      0.97      0.98       211\n",
      "\n",
      "    accuracy                           0.98      1000\n",
      "   macro avg       0.98      0.98      0.98      1000\n",
      "weighted avg       0.98      0.98      0.98      1000\n",
      "\n"
     ]
    },
    {
     "ename": "",
     "evalue": "",
     "output_type": "error",
     "traceback": [
      "\u001b[1;31mThe Kernel crashed while executing code in the the current cell or a previous cell. Please review the code in the cell(s) to identify a possible cause of the failure. Click <a href='https://aka.ms/vscodeJupyterKernelCrash'>here</a> for more info. View Jupyter <a href='command:jupyter.viewOutput'>log</a> for further details."
     ]
    }
   ],
   "source": [
    "print(classification_report(res_f,ytest_f))"
   ]
  },
  {
   "cell_type": "code",
   "execution_count": null,
   "metadata": {},
   "outputs": [],
   "source": []
  }
 ],
 "metadata": {
  "interpreter": {
   "hash": "916dbcbb3f70747c44a77c7bcd40155683ae19c65e1c03b4aa3499c5328201f1"
  },
  "kernelspec": {
   "display_name": "Python 3.8.10 64-bit",
   "language": "python",
   "name": "python3"
  },
  "language_info": {
   "codemirror_mode": {
    "name": "ipython",
    "version": 3
   },
   "file_extension": ".py",
   "mimetype": "text/x-python",
   "name": "python",
   "nbconvert_exporter": "python",
   "pygments_lexer": "ipython3",
   "version": "3.8.10"
  },
  "orig_nbformat": 4
 },
 "nbformat": 4,
 "nbformat_minor": 2
}
